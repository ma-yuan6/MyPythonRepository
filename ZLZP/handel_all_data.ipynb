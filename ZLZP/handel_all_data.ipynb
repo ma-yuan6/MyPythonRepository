{
 "cells": [
  {
   "cell_type": "code",
   "execution_count": 419,
   "metadata": {
    "collapsed": true,
    "ExecuteTime": {
     "start_time": "2023-12-27T15:57:22.859134Z",
     "end_time": "2023-12-27T15:57:22.897051Z"
    }
   },
   "outputs": [
    {
     "name": "stdout",
     "output_type": "stream",
     "text": [
      "(3174, 12)\n"
     ]
    },
    {
     "data": {
      "text/plain": "           职位名称         薪水 工作地点  经验要求 学历要求  \\\n0         数据分析岗      5千-8千   丽水  经验不限   本科   \n1       后端开发工程师    8千-1.6万  莲都区  1-3年   大专   \n2         全栈工程师    8千-1.3万  莲都区  3-5年   本科   \n3   研发工程师/软件工程师    6千-1.2万  莲都区  经验不限   本科   \n4  安全运营服务工程师-丽水  1.4万-1.5万  莲都区  3-5年   本科   \n\n                                                职位标签               公司名称  \\\n0                                      销售数据分析、金融数据分析  新华人寿保险股份有限公司浙江分公司   \n1                                    Java、SPRINGBOOT       浙江中通文博服务有限公司   \n2                     GoLang、Vue、Python、UNIAPP、MySQL     丽水市巷味社智能制造有限公司   \n3                                51单片机、PIC单片机、ARM处理器     浙江中广电器集团股份有限公司   \n4  Java、Python、Golang、IDS、APT、防火墙、威胁情报分析平台、具备安全运营...     丰沃创新(北京)科技有限公司   \n\n                                                详情链接   市     关键字     最低工资  \\\n0  http://jobs.zhaopin.com/CC148860520J4046281281...  丽水  python   5000.0   \n1  http://jobs.zhaopin.com/CC456117420J4050774360...  丽水  python   8000.0   \n2  http://jobs.zhaopin.com/CCL1478013930J40479038...  丽水  python   8000.0   \n3  http://jobs.zhaopin.com/CCL1390368790J40487440...  丽水  python   6000.0   \n4  http://jobs.zhaopin.com/CC454917820J4050598240...  丽水  python  14000.0   \n\n      最高工资  \n0   8000.0  \n1  16000.0  \n2  13000.0  \n3  12000.0  \n4  15000.0  ",
      "text/html": "<div>\n<style scoped>\n    .dataframe tbody tr th:only-of-type {\n        vertical-align: middle;\n    }\n\n    .dataframe tbody tr th {\n        vertical-align: top;\n    }\n\n    .dataframe thead th {\n        text-align: right;\n    }\n</style>\n<table border=\"1\" class=\"dataframe\">\n  <thead>\n    <tr style=\"text-align: right;\">\n      <th></th>\n      <th>职位名称</th>\n      <th>薪水</th>\n      <th>工作地点</th>\n      <th>经验要求</th>\n      <th>学历要求</th>\n      <th>职位标签</th>\n      <th>公司名称</th>\n      <th>详情链接</th>\n      <th>市</th>\n      <th>关键字</th>\n      <th>最低工资</th>\n      <th>最高工资</th>\n    </tr>\n  </thead>\n  <tbody>\n    <tr>\n      <th>0</th>\n      <td>数据分析岗</td>\n      <td>5千-8千</td>\n      <td>丽水</td>\n      <td>经验不限</td>\n      <td>本科</td>\n      <td>销售数据分析、金融数据分析</td>\n      <td>新华人寿保险股份有限公司浙江分公司</td>\n      <td>http://jobs.zhaopin.com/CC148860520J4046281281...</td>\n      <td>丽水</td>\n      <td>python</td>\n      <td>5000.0</td>\n      <td>8000.0</td>\n    </tr>\n    <tr>\n      <th>1</th>\n      <td>后端开发工程师</td>\n      <td>8千-1.6万</td>\n      <td>莲都区</td>\n      <td>1-3年</td>\n      <td>大专</td>\n      <td>Java、SPRINGBOOT</td>\n      <td>浙江中通文博服务有限公司</td>\n      <td>http://jobs.zhaopin.com/CC456117420J4050774360...</td>\n      <td>丽水</td>\n      <td>python</td>\n      <td>8000.0</td>\n      <td>16000.0</td>\n    </tr>\n    <tr>\n      <th>2</th>\n      <td>全栈工程师</td>\n      <td>8千-1.3万</td>\n      <td>莲都区</td>\n      <td>3-5年</td>\n      <td>本科</td>\n      <td>GoLang、Vue、Python、UNIAPP、MySQL</td>\n      <td>丽水市巷味社智能制造有限公司</td>\n      <td>http://jobs.zhaopin.com/CCL1478013930J40479038...</td>\n      <td>丽水</td>\n      <td>python</td>\n      <td>8000.0</td>\n      <td>13000.0</td>\n    </tr>\n    <tr>\n      <th>3</th>\n      <td>研发工程师/软件工程师</td>\n      <td>6千-1.2万</td>\n      <td>莲都区</td>\n      <td>经验不限</td>\n      <td>本科</td>\n      <td>51单片机、PIC单片机、ARM处理器</td>\n      <td>浙江中广电器集团股份有限公司</td>\n      <td>http://jobs.zhaopin.com/CCL1390368790J40487440...</td>\n      <td>丽水</td>\n      <td>python</td>\n      <td>6000.0</td>\n      <td>12000.0</td>\n    </tr>\n    <tr>\n      <th>4</th>\n      <td>安全运营服务工程师-丽水</td>\n      <td>1.4万-1.5万</td>\n      <td>莲都区</td>\n      <td>3-5年</td>\n      <td>本科</td>\n      <td>Java、Python、Golang、IDS、APT、防火墙、威胁情报分析平台、具备安全运营...</td>\n      <td>丰沃创新(北京)科技有限公司</td>\n      <td>http://jobs.zhaopin.com/CC454917820J4050598240...</td>\n      <td>丽水</td>\n      <td>python</td>\n      <td>14000.0</td>\n      <td>15000.0</td>\n    </tr>\n  </tbody>\n</table>\n</div>"
     },
     "execution_count": 419,
     "metadata": {},
     "output_type": "execute_result"
    }
   ],
   "source": [
    "import pandas as pd\n",
    "\n",
    "df = pd.read_csv('jobData/all_data.csv', encoding='gbk')\n",
    "print(df.shape)\n",
    "df.head()"
   ]
  },
  {
   "cell_type": "code",
   "execution_count": 420,
   "outputs": [
    {
     "data": {
      "text/plain": "关键字\npython    903\n数据分析      830\n算法        516\n大数据       476\n数据挖掘      449\ndtype: int64"
     },
     "execution_count": 420,
     "metadata": {},
     "output_type": "execute_result"
    }
   ],
   "source": [
    "df.groupby('关键字').size().sort_values(ascending=False)  # 按城市分组，统计数量"
   ],
   "metadata": {
    "collapsed": false,
    "ExecuteTime": {
     "start_time": "2023-12-27T15:57:22.897051Z",
     "end_time": "2023-12-27T15:57:22.908591Z"
    }
   }
  },
  {
   "cell_type": "code",
   "execution_count": 421,
   "outputs": [
    {
     "data": {
      "text/plain": "       关键字   学历要求   数量\n0   python  中专/中技    3\n1   python     博士    4\n2   python     大专  130\n3   python   学历不限   27\n4   python     本科  670\n5   python     硕士   68\n6   python     高中    1\n7      大数据     博士   13\n8      大数据     大专   94\n9      大数据   学历不限   17\n10     大数据     本科  332\n11     大数据     硕士   18\n12     大数据     高中    2\n13    数据分析     博士    3\n14    数据分析     大专  207\n15    数据分析   学历不限   33\n16    数据分析     本科  518\n17    数据分析     硕士   59\n18    数据分析     高中   10\n19    数据挖掘  初中及以下    1\n20    数据挖掘     博士    3\n21    数据挖掘     大专   76\n22    数据挖掘   学历不限   17\n23    数据挖掘     本科  320\n24    数据挖掘     硕士   30\n25    数据挖掘     高中    2\n26      算法  中专/中技    3\n27      算法     博士   15\n28      算法     大专   40\n29      算法   学历不限    7\n30      算法     本科  295\n31      算法     硕士  156",
      "text/html": "<div>\n<style scoped>\n    .dataframe tbody tr th:only-of-type {\n        vertical-align: middle;\n    }\n\n    .dataframe tbody tr th {\n        vertical-align: top;\n    }\n\n    .dataframe thead th {\n        text-align: right;\n    }\n</style>\n<table border=\"1\" class=\"dataframe\">\n  <thead>\n    <tr style=\"text-align: right;\">\n      <th></th>\n      <th>关键字</th>\n      <th>学历要求</th>\n      <th>数量</th>\n    </tr>\n  </thead>\n  <tbody>\n    <tr>\n      <th>0</th>\n      <td>python</td>\n      <td>中专/中技</td>\n      <td>3</td>\n    </tr>\n    <tr>\n      <th>1</th>\n      <td>python</td>\n      <td>博士</td>\n      <td>4</td>\n    </tr>\n    <tr>\n      <th>2</th>\n      <td>python</td>\n      <td>大专</td>\n      <td>130</td>\n    </tr>\n    <tr>\n      <th>3</th>\n      <td>python</td>\n      <td>学历不限</td>\n      <td>27</td>\n    </tr>\n    <tr>\n      <th>4</th>\n      <td>python</td>\n      <td>本科</td>\n      <td>670</td>\n    </tr>\n    <tr>\n      <th>5</th>\n      <td>python</td>\n      <td>硕士</td>\n      <td>68</td>\n    </tr>\n    <tr>\n      <th>6</th>\n      <td>python</td>\n      <td>高中</td>\n      <td>1</td>\n    </tr>\n    <tr>\n      <th>7</th>\n      <td>大数据</td>\n      <td>博士</td>\n      <td>13</td>\n    </tr>\n    <tr>\n      <th>8</th>\n      <td>大数据</td>\n      <td>大专</td>\n      <td>94</td>\n    </tr>\n    <tr>\n      <th>9</th>\n      <td>大数据</td>\n      <td>学历不限</td>\n      <td>17</td>\n    </tr>\n    <tr>\n      <th>10</th>\n      <td>大数据</td>\n      <td>本科</td>\n      <td>332</td>\n    </tr>\n    <tr>\n      <th>11</th>\n      <td>大数据</td>\n      <td>硕士</td>\n      <td>18</td>\n    </tr>\n    <tr>\n      <th>12</th>\n      <td>大数据</td>\n      <td>高中</td>\n      <td>2</td>\n    </tr>\n    <tr>\n      <th>13</th>\n      <td>数据分析</td>\n      <td>博士</td>\n      <td>3</td>\n    </tr>\n    <tr>\n      <th>14</th>\n      <td>数据分析</td>\n      <td>大专</td>\n      <td>207</td>\n    </tr>\n    <tr>\n      <th>15</th>\n      <td>数据分析</td>\n      <td>学历不限</td>\n      <td>33</td>\n    </tr>\n    <tr>\n      <th>16</th>\n      <td>数据分析</td>\n      <td>本科</td>\n      <td>518</td>\n    </tr>\n    <tr>\n      <th>17</th>\n      <td>数据分析</td>\n      <td>硕士</td>\n      <td>59</td>\n    </tr>\n    <tr>\n      <th>18</th>\n      <td>数据分析</td>\n      <td>高中</td>\n      <td>10</td>\n    </tr>\n    <tr>\n      <th>19</th>\n      <td>数据挖掘</td>\n      <td>初中及以下</td>\n      <td>1</td>\n    </tr>\n    <tr>\n      <th>20</th>\n      <td>数据挖掘</td>\n      <td>博士</td>\n      <td>3</td>\n    </tr>\n    <tr>\n      <th>21</th>\n      <td>数据挖掘</td>\n      <td>大专</td>\n      <td>76</td>\n    </tr>\n    <tr>\n      <th>22</th>\n      <td>数据挖掘</td>\n      <td>学历不限</td>\n      <td>17</td>\n    </tr>\n    <tr>\n      <th>23</th>\n      <td>数据挖掘</td>\n      <td>本科</td>\n      <td>320</td>\n    </tr>\n    <tr>\n      <th>24</th>\n      <td>数据挖掘</td>\n      <td>硕士</td>\n      <td>30</td>\n    </tr>\n    <tr>\n      <th>25</th>\n      <td>数据挖掘</td>\n      <td>高中</td>\n      <td>2</td>\n    </tr>\n    <tr>\n      <th>26</th>\n      <td>算法</td>\n      <td>中专/中技</td>\n      <td>3</td>\n    </tr>\n    <tr>\n      <th>27</th>\n      <td>算法</td>\n      <td>博士</td>\n      <td>15</td>\n    </tr>\n    <tr>\n      <th>28</th>\n      <td>算法</td>\n      <td>大专</td>\n      <td>40</td>\n    </tr>\n    <tr>\n      <th>29</th>\n      <td>算法</td>\n      <td>学历不限</td>\n      <td>7</td>\n    </tr>\n    <tr>\n      <th>30</th>\n      <td>算法</td>\n      <td>本科</td>\n      <td>295</td>\n    </tr>\n    <tr>\n      <th>31</th>\n      <td>算法</td>\n      <td>硕士</td>\n      <td>156</td>\n    </tr>\n  </tbody>\n</table>\n</div>"
     },
     "execution_count": 421,
     "metadata": {},
     "output_type": "execute_result"
    }
   ],
   "source": [
    "df.groupby(['关键字', '学历要求']).size().to_frame('数量').reset_index()"
   ],
   "metadata": {
    "collapsed": false,
    "ExecuteTime": {
     "start_time": "2023-12-27T15:57:22.908591Z",
     "end_time": "2023-12-27T15:57:22.945494Z"
    }
   }
  }
 ],
 "metadata": {
  "kernelspec": {
   "display_name": "Python 3",
   "language": "python",
   "name": "python3"
  },
  "language_info": {
   "codemirror_mode": {
    "name": "ipython",
    "version": 2
   },
   "file_extension": ".py",
   "mimetype": "text/x-python",
   "name": "python",
   "nbconvert_exporter": "python",
   "pygments_lexer": "ipython2",
   "version": "2.7.6"
  }
 },
 "nbformat": 4,
 "nbformat_minor": 0
}
