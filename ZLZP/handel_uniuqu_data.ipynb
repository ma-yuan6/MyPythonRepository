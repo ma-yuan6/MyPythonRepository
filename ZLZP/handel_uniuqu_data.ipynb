{
 "cells": [
  {
   "cell_type": "code",
   "execution_count": 25,
   "metadata": {
    "collapsed": true,
    "ExecuteTime": {
     "start_time": "2023-12-27T16:35:01.434503Z",
     "end_time": "2023-12-27T16:35:01.475305Z"
    }
   },
   "outputs": [
    {
     "name": "stdout",
     "output_type": "stream",
     "text": [
      "(1906, 11)\n"
     ]
    },
    {
     "data": {
      "text/plain": "                        职位名称             薪水 工作地点   经验要求  学历要求  \\\n0     (感知/预测/决策/规划/控制) 算法工程师  2.5万-5万 · 14薪   上城  5-10年    本科   \n1  (自动驾驶) SLAM算法工程师 35-70万年薪  2.5万-5万 · 14薪   上城  5-10年    本科   \n2           .NET平台b/s架构开发工程师          4千-8千  上虞区   经验不限    大专   \n3           10k 信息流投手+13薪 社保        1万-1.2万   钱塘   3-5年  学历不限   \n4         15k 汽车维修专家+双休 六险一金        1万-1.5万   余杭   3-5年    大专   \n\n                                                职位标签            公司名称  \\\n0                                     感知、预测、决策、规划、控制    上海亿捷兆成科技有限公司   \n1                                   SLAM算法、导航算法、地图定位    上海亿捷兆成科技有限公司   \n2  C#、HTML、SQL、多线程、消息队列、微服务架构、软件工程师、中级软件工程师、Windo...    上海布恩信息科技有限公司   \n3              今日头条、广点通、快手、数据分析、0-1投流二类电商经验、直购、跑过CID  浙江爱才人力资源股份有限公司   \n4  乘用车、汽车维修技师、高级汽车维修工、国家低压电工证、汽车保养、拆装维修、故障诊断、软件刷写...  浙江爱才人力资源股份有限公司   \n\n                                                详情链接   市          最低工资  \\\n0  http://jobs.zhaopin.com/CCL1460390540J40392834...  杭州  29166.666667   \n1  http://jobs.zhaopin.com/CCL1460390540J40392834...  杭州  29166.666667   \n2  http://jobs.zhaopin.com/CCL1471487210J40556627...  绍兴   4000.000000   \n3  http://jobs.zhaopin.com/CCL1278433670J40540546...  杭州  10000.000000   \n4  http://jobs.zhaopin.com/CCL1278433670J40531628...  杭州  10000.000000   \n\n           最高工资  \n0  58333.333333  \n1  58333.333333  \n2   8000.000000  \n3  12000.000000  \n4  15000.000000  ",
      "text/html": "<div>\n<style scoped>\n    .dataframe tbody tr th:only-of-type {\n        vertical-align: middle;\n    }\n\n    .dataframe tbody tr th {\n        vertical-align: top;\n    }\n\n    .dataframe thead th {\n        text-align: right;\n    }\n</style>\n<table border=\"1\" class=\"dataframe\">\n  <thead>\n    <tr style=\"text-align: right;\">\n      <th></th>\n      <th>职位名称</th>\n      <th>薪水</th>\n      <th>工作地点</th>\n      <th>经验要求</th>\n      <th>学历要求</th>\n      <th>职位标签</th>\n      <th>公司名称</th>\n      <th>详情链接</th>\n      <th>市</th>\n      <th>最低工资</th>\n      <th>最高工资</th>\n    </tr>\n  </thead>\n  <tbody>\n    <tr>\n      <th>0</th>\n      <td>(感知/预测/决策/规划/控制) 算法工程师</td>\n      <td>2.5万-5万 · 14薪</td>\n      <td>上城</td>\n      <td>5-10年</td>\n      <td>本科</td>\n      <td>感知、预测、决策、规划、控制</td>\n      <td>上海亿捷兆成科技有限公司</td>\n      <td>http://jobs.zhaopin.com/CCL1460390540J40392834...</td>\n      <td>杭州</td>\n      <td>29166.666667</td>\n      <td>58333.333333</td>\n    </tr>\n    <tr>\n      <th>1</th>\n      <td>(自动驾驶) SLAM算法工程师 35-70万年薪</td>\n      <td>2.5万-5万 · 14薪</td>\n      <td>上城</td>\n      <td>5-10年</td>\n      <td>本科</td>\n      <td>SLAM算法、导航算法、地图定位</td>\n      <td>上海亿捷兆成科技有限公司</td>\n      <td>http://jobs.zhaopin.com/CCL1460390540J40392834...</td>\n      <td>杭州</td>\n      <td>29166.666667</td>\n      <td>58333.333333</td>\n    </tr>\n    <tr>\n      <th>2</th>\n      <td>.NET平台b/s架构开发工程师</td>\n      <td>4千-8千</td>\n      <td>上虞区</td>\n      <td>经验不限</td>\n      <td>大专</td>\n      <td>C#、HTML、SQL、多线程、消息队列、微服务架构、软件工程师、中级软件工程师、Windo...</td>\n      <td>上海布恩信息科技有限公司</td>\n      <td>http://jobs.zhaopin.com/CCL1471487210J40556627...</td>\n      <td>绍兴</td>\n      <td>4000.000000</td>\n      <td>8000.000000</td>\n    </tr>\n    <tr>\n      <th>3</th>\n      <td>10k 信息流投手+13薪 社保</td>\n      <td>1万-1.2万</td>\n      <td>钱塘</td>\n      <td>3-5年</td>\n      <td>学历不限</td>\n      <td>今日头条、广点通、快手、数据分析、0-1投流二类电商经验、直购、跑过CID</td>\n      <td>浙江爱才人力资源股份有限公司</td>\n      <td>http://jobs.zhaopin.com/CCL1278433670J40540546...</td>\n      <td>杭州</td>\n      <td>10000.000000</td>\n      <td>12000.000000</td>\n    </tr>\n    <tr>\n      <th>4</th>\n      <td>15k 汽车维修专家+双休 六险一金</td>\n      <td>1万-1.5万</td>\n      <td>余杭</td>\n      <td>3-5年</td>\n      <td>大专</td>\n      <td>乘用车、汽车维修技师、高级汽车维修工、国家低压电工证、汽车保养、拆装维修、故障诊断、软件刷写...</td>\n      <td>浙江爱才人力资源股份有限公司</td>\n      <td>http://jobs.zhaopin.com/CCL1278433670J40531628...</td>\n      <td>杭州</td>\n      <td>10000.000000</td>\n      <td>15000.000000</td>\n    </tr>\n  </tbody>\n</table>\n</div>"
     },
     "execution_count": 25,
     "metadata": {},
     "output_type": "execute_result"
    }
   ],
   "source": [
    "import pandas as pd\n",
    "\n",
    "df = pd.read_csv('jobData/unique_data.csv', encoding='gbk')\n",
    "print(df.shape)\n",
    "df.head()"
   ]
  },
  {
   "cell_type": "code",
   "execution_count": 26,
   "outputs": [
    {
     "data": {
      "text/plain": "     市     工作地点  数量\n0   丽水       丽水   1\n1   丽水  景宁畲族自治县   1\n2   丽水      缙云县   2\n3   丽水      莲都区  10\n4   台州      三门县   2\n..  ..      ...  ..\n81  金华      兰溪市   1\n82  金华      婺城区   6\n83  金华      永康市   2\n84  金华      金东区   7\n85  金华       金华   7\n\n[86 rows x 3 columns]",
      "text/html": "<div>\n<style scoped>\n    .dataframe tbody tr th:only-of-type {\n        vertical-align: middle;\n    }\n\n    .dataframe tbody tr th {\n        vertical-align: top;\n    }\n\n    .dataframe thead th {\n        text-align: right;\n    }\n</style>\n<table border=\"1\" class=\"dataframe\">\n  <thead>\n    <tr style=\"text-align: right;\">\n      <th></th>\n      <th>市</th>\n      <th>工作地点</th>\n      <th>数量</th>\n    </tr>\n  </thead>\n  <tbody>\n    <tr>\n      <th>0</th>\n      <td>丽水</td>\n      <td>丽水</td>\n      <td>1</td>\n    </tr>\n    <tr>\n      <th>1</th>\n      <td>丽水</td>\n      <td>景宁畲族自治县</td>\n      <td>1</td>\n    </tr>\n    <tr>\n      <th>2</th>\n      <td>丽水</td>\n      <td>缙云县</td>\n      <td>2</td>\n    </tr>\n    <tr>\n      <th>3</th>\n      <td>丽水</td>\n      <td>莲都区</td>\n      <td>10</td>\n    </tr>\n    <tr>\n      <th>4</th>\n      <td>台州</td>\n      <td>三门县</td>\n      <td>2</td>\n    </tr>\n    <tr>\n      <th>...</th>\n      <td>...</td>\n      <td>...</td>\n      <td>...</td>\n    </tr>\n    <tr>\n      <th>81</th>\n      <td>金华</td>\n      <td>兰溪市</td>\n      <td>1</td>\n    </tr>\n    <tr>\n      <th>82</th>\n      <td>金华</td>\n      <td>婺城区</td>\n      <td>6</td>\n    </tr>\n    <tr>\n      <th>83</th>\n      <td>金华</td>\n      <td>永康市</td>\n      <td>2</td>\n    </tr>\n    <tr>\n      <th>84</th>\n      <td>金华</td>\n      <td>金东区</td>\n      <td>7</td>\n    </tr>\n    <tr>\n      <th>85</th>\n      <td>金华</td>\n      <td>金华</td>\n      <td>7</td>\n    </tr>\n  </tbody>\n</table>\n<p>86 rows × 3 columns</p>\n</div>"
     },
     "execution_count": 26,
     "metadata": {},
     "output_type": "execute_result"
    }
   ],
   "source": [
    "df.groupby(['市', '工作地点']).size().to_frame('数量').reset_index()  # 按城市和工作地点分组，统计数量"
   ],
   "metadata": {
    "collapsed": false,
    "ExecuteTime": {
     "start_time": "2023-12-27T16:35:01.459615Z",
     "end_time": "2023-12-27T16:35:01.475305Z"
    }
   }
  },
  {
   "cell_type": "code",
   "execution_count": 27,
   "outputs": [
    {
     "name": "stdout",
     "output_type": "stream",
     "text": [
      "['本科' '大专' '学历不限' '博士' '硕士' '初中及以下' '高中' '中专/中技']\n"
     ]
    },
    {
     "data": {
      "text/plain": "    学历要求    数量\n0     本科  1252\n1     大专   331\n2     硕士   225\n3   学历不限    56\n4     博士    26\n5     高中    12\n6  中专/中技     3\n7  初中及以下     1",
      "text/html": "<div>\n<style scoped>\n    .dataframe tbody tr th:only-of-type {\n        vertical-align: middle;\n    }\n\n    .dataframe tbody tr th {\n        vertical-align: top;\n    }\n\n    .dataframe thead th {\n        text-align: right;\n    }\n</style>\n<table border=\"1\" class=\"dataframe\">\n  <thead>\n    <tr style=\"text-align: right;\">\n      <th></th>\n      <th>学历要求</th>\n      <th>数量</th>\n    </tr>\n  </thead>\n  <tbody>\n    <tr>\n      <th>0</th>\n      <td>本科</td>\n      <td>1252</td>\n    </tr>\n    <tr>\n      <th>1</th>\n      <td>大专</td>\n      <td>331</td>\n    </tr>\n    <tr>\n      <th>2</th>\n      <td>硕士</td>\n      <td>225</td>\n    </tr>\n    <tr>\n      <th>3</th>\n      <td>学历不限</td>\n      <td>56</td>\n    </tr>\n    <tr>\n      <th>4</th>\n      <td>博士</td>\n      <td>26</td>\n    </tr>\n    <tr>\n      <th>5</th>\n      <td>高中</td>\n      <td>12</td>\n    </tr>\n    <tr>\n      <th>6</th>\n      <td>中专/中技</td>\n      <td>3</td>\n    </tr>\n    <tr>\n      <th>7</th>\n      <td>初中及以下</td>\n      <td>1</td>\n    </tr>\n  </tbody>\n</table>\n</div>"
     },
     "execution_count": 27,
     "metadata": {},
     "output_type": "execute_result"
    }
   ],
   "source": [
    "print(df['学历要求'].unique())  # 查看经验要求的类别\n",
    "df.groupby('学历要求').size().sort_values(ascending=False).to_frame('数量').reset_index()"
   ],
   "metadata": {
    "collapsed": false,
    "ExecuteTime": {
     "start_time": "2023-12-27T16:35:01.475305Z",
     "end_time": "2023-12-27T16:35:01.495802Z"
    }
   }
  },
  {
   "cell_type": "code",
   "execution_count": 28,
   "outputs": [
    {
     "name": "stdout",
     "output_type": "stream",
     "text": [
      "495\n",
      "0.25970619097586567\n"
     ]
    }
   ],
   "source": [
    "can_work = df[(df['经验要求'] == '经验不限') & (df['学历要求'] != '硕士') & (df['学历要求'] != '博士')].shape[0]\n",
    "print(can_work)\n",
    "print(can_work / df.shape[0])  # 可应聘占比"
   ],
   "metadata": {
    "collapsed": false,
    "ExecuteTime": {
     "start_time": "2023-12-27T16:35:01.495802Z",
     "end_time": "2023-12-27T16:35:01.555173Z"
    }
   }
  },
  {
   "cell_type": "markdown",
   "source": [],
   "metadata": {
    "collapsed": false
   }
  },
  {
   "cell_type": "code",
   "execution_count": 29,
   "outputs": [
    {
     "data": {
      "text/plain": "经验要求\n经验不限     602\n1-3年     564\n3-5年     541\n5-10年    170\n1年以下      19\n10年以上     10\ndtype: int64"
     },
     "execution_count": 29,
     "metadata": {},
     "output_type": "execute_result"
    }
   ],
   "source": [
    "df.groupby('经验要求').size().sort_values(ascending=False)  # 经验"
   ],
   "metadata": {
    "collapsed": false,
    "ExecuteTime": {
     "start_time": "2023-12-27T16:35:01.507825Z",
     "end_time": "2023-12-27T16:35:01.619224Z"
    }
   }
  },
  {
   "cell_type": "code",
   "execution_count": 30,
   "outputs": [
    {
     "data": {
      "text/plain": "                   标签   数量\n0              Python  609\n1                Java  255\n2                数据分析  230\n3                 C++  191\n4                 nan  155\n...               ...  ...\n1953  H.264/H.263/VP8    1\n1954          CODEC相关    1\n1955             数字信号    1\n1956             语音识别    1\n1957             检测算法    1\n\n[1958 rows x 2 columns]",
      "text/html": "<div>\n<style scoped>\n    .dataframe tbody tr th:only-of-type {\n        vertical-align: middle;\n    }\n\n    .dataframe tbody tr th {\n        vertical-align: top;\n    }\n\n    .dataframe thead th {\n        text-align: right;\n    }\n</style>\n<table border=\"1\" class=\"dataframe\">\n  <thead>\n    <tr style=\"text-align: right;\">\n      <th></th>\n      <th>标签</th>\n      <th>数量</th>\n    </tr>\n  </thead>\n  <tbody>\n    <tr>\n      <th>0</th>\n      <td>Python</td>\n      <td>609</td>\n    </tr>\n    <tr>\n      <th>1</th>\n      <td>Java</td>\n      <td>255</td>\n    </tr>\n    <tr>\n      <th>2</th>\n      <td>数据分析</td>\n      <td>230</td>\n    </tr>\n    <tr>\n      <th>3</th>\n      <td>C++</td>\n      <td>191</td>\n    </tr>\n    <tr>\n      <th>4</th>\n      <td>nan</td>\n      <td>155</td>\n    </tr>\n    <tr>\n      <th>...</th>\n      <td>...</td>\n      <td>...</td>\n    </tr>\n    <tr>\n      <th>1953</th>\n      <td>H.264/H.263/VP8</td>\n      <td>1</td>\n    </tr>\n    <tr>\n      <th>1954</th>\n      <td>CODEC相关</td>\n      <td>1</td>\n    </tr>\n    <tr>\n      <th>1955</th>\n      <td>数字信号</td>\n      <td>1</td>\n    </tr>\n    <tr>\n      <th>1956</th>\n      <td>语音识别</td>\n      <td>1</td>\n    </tr>\n    <tr>\n      <th>1957</th>\n      <td>检测算法</td>\n      <td>1</td>\n    </tr>\n  </tbody>\n</table>\n<p>1958 rows × 2 columns</p>\n</div>"
     },
     "execution_count": 30,
     "metadata": {},
     "output_type": "execute_result"
    }
   ],
   "source": [
    "from collections import Counter\n",
    "count = Counter()\n",
    "for tag in df['职位标签']:\n",
    "    count.update(Counter(str(tag).split('、')))\n",
    "count_dic = dict(sorted(count.items(), key=lambda x: x[1], reverse=True))\n",
    "del count['nan']\n",
    "count_df = pd.DataFrame(count_dic.items(), columns=['标签', '数量'])\n",
    "count_df"
   ],
   "metadata": {
    "collapsed": false,
    "ExecuteTime": {
     "start_time": "2023-12-27T16:35:01.523439Z",
     "end_time": "2023-12-27T16:35:01.660884Z"
    }
   }
  }
 ],
 "metadata": {
  "kernelspec": {
   "display_name": "Python 3",
   "language": "python",
   "name": "python3"
  },
  "language_info": {
   "codemirror_mode": {
    "name": "ipython",
    "version": 2
   },
   "file_extension": ".py",
   "mimetype": "text/x-python",
   "name": "python",
   "nbconvert_exporter": "python",
   "pygments_lexer": "ipython2",
   "version": "2.7.6"
  }
 },
 "nbformat": 4,
 "nbformat_minor": 0
}
